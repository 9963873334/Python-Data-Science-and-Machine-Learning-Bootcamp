{
 "cells": [
  {
   "cell_type": "markdown",
   "metadata": {},
   "source": [
    "# Linear Regression with Python\n",
    "\n"
   ]
  },
  {
   "cell_type": "code",
   "execution_count": 46,
   "metadata": {
    "collapsed": true
   },
   "outputs": [],
   "source": [
    "import pandas as pd\n",
    "import numpy as np\n",
    "import seaborn as sns\n",
    "import matplotlib.pyplot as plt\n",
    "from sklearn import datasets"
   ]
  },
  {
   "cell_type": "code",
   "execution_count": 6,
   "metadata": {
    "collapsed": true
   },
   "outputs": [],
   "source": [
    "from faker import Factory,Faker"
   ]
  },
  {
   "cell_type": "code",
   "execution_count": 12,
   "metadata": {
    "collapsed": true
   },
   "outputs": [],
   "source": [
    "fake = Faker()\n",
    "fake.seed(101)"
   ]
  },
  {
   "cell_type": "code",
   "execution_count": 13,
   "metadata": {
    "collapsed": false
   },
   "outputs": [
    {
     "data": {
      "text/plain": [
       "'Boone, Allen and Jones'"
      ]
     },
     "execution_count": 13,
     "metadata": {},
     "output_type": "execute_result"
    }
   ],
   "source": [
    "\n",
    "fake.company()"
   ]
  },
  {
   "cell_type": "code",
   "execution_count": 15,
   "metadata": {
    "collapsed": false
   },
   "outputs": [
    {
     "data": {
      "text/plain": [
       "'3167 Camacho Run Suite 466\\nSouth Randy, SC 07381-5055'"
      ]
     },
     "execution_count": 15,
     "metadata": {},
     "output_type": "execute_result"
    }
   ],
   "source": [
    "fake.address()"
   ]
  },
  {
   "cell_type": "code",
   "execution_count": 41,
   "metadata": {
    "collapsed": false
   },
   "outputs": [
    {
     "name": "stdout",
     "output_type": "stream",
     "text": [
      "['Voyager', 'Katelyn Middleton', '869983872352072 06/24', 'CVC: 347', '']\n"
     ]
    }
   ],
   "source": [
    "print(fake.credit_card_full().split('\\n'))"
   ]
  },
  {
   "cell_type": "code",
   "execution_count": 139,
   "metadata": {
    "collapsed": false
   },
   "outputs": [
    {
     "data": {
      "text/html": [
       "<div>\n",
       "<table border=\"1\" class=\"dataframe\">\n",
       "  <thead>\n",
       "    <tr style=\"text-align: right;\">\n",
       "      <th></th>\n",
       "      <th>Avg. Session Length</th>\n",
       "      <th>Time on App</th>\n",
       "      <th>Time on Website</th>\n",
       "      <th>Length of Membership</th>\n",
       "      <th>Yearly Amount Spent</th>\n",
       "    </tr>\n",
       "  </thead>\n",
       "  <tbody>\n",
       "    <tr>\n",
       "      <th>0</th>\n",
       "      <td>-1.639417</td>\n",
       "      <td>-0.166782</td>\n",
       "      <td>0.653554</td>\n",
       "      <td>0.598699</td>\n",
       "      <td>-100.149879</td>\n",
       "    </tr>\n",
       "    <tr>\n",
       "      <th>1</th>\n",
       "      <td>-0.912935</td>\n",
       "      <td>1.363242</td>\n",
       "      <td>0.199857</td>\n",
       "      <td>0.605438</td>\n",
       "      <td>-12.558437</td>\n",
       "    </tr>\n",
       "    <tr>\n",
       "      <th>2</th>\n",
       "      <td>0.366531</td>\n",
       "      <td>1.299596</td>\n",
       "      <td>-1.360603</td>\n",
       "      <td>0.281983</td>\n",
       "      <td>2.716808</td>\n",
       "    </tr>\n",
       "    <tr>\n",
       "      <th>3</th>\n",
       "      <td>-0.448762</td>\n",
       "      <td>-1.100688</td>\n",
       "      <td>0.729239</td>\n",
       "      <td>0.846464</td>\n",
       "      <td>-35.719318</td>\n",
       "    </tr>\n",
       "    <tr>\n",
       "      <th>4</th>\n",
       "      <td>1.223808</td>\n",
       "      <td>-0.480197</td>\n",
       "      <td>0.735689</td>\n",
       "      <td>1.101931</td>\n",
       "      <td>118.552617</td>\n",
       "    </tr>\n",
       "  </tbody>\n",
       "</table>\n",
       "</div>"
      ],
      "text/plain": [
       "   Avg. Session Length  Time on App  Time on Website  Length of Membership  \\\n",
       "0            -1.639417    -0.166782         0.653554              0.598699   \n",
       "1            -0.912935     1.363242         0.199857              0.605438   \n",
       "2             0.366531     1.299596        -1.360603              0.281983   \n",
       "3            -0.448762    -1.100688         0.729239              0.846464   \n",
       "4             1.223808    -0.480197         0.735689              1.101931   \n",
       "\n",
       "   Yearly Amount Spent  \n",
       "0          -100.149879  \n",
       "1           -12.558437  \n",
       "2             2.716808  \n",
       "3           -35.719318  \n",
       "4           118.552617  "
      ]
     },
     "execution_count": 139,
     "metadata": {},
     "output_type": "execute_result"
    }
   ],
   "source": [
    "X,y = datasets.make_regression( n_samples=500,n_features=4,n_informative=3,noise=0.05)\n",
    "X = pd.DataFrame(X)\n",
    "y = pd.DataFrame(y)\n",
    "df = pd.concat([X,y],axis=1)\n",
    "df.columns = ['Avg. Session Length','Time on App','Time on Website','Length of Membership','Yearly Amount Spent']\n",
    "df.head()"
   ]
  },
  {
   "cell_type": "code",
   "execution_count": 140,
   "metadata": {
    "collapsed": false
   },
   "outputs": [
    {
     "data": {
      "text/html": [
       "<div>\n",
       "<table border=\"1\" class=\"dataframe\">\n",
       "  <thead>\n",
       "    <tr style=\"text-align: right;\">\n",
       "      <th></th>\n",
       "      <th>Avg. Session Length</th>\n",
       "      <th>Time on App</th>\n",
       "      <th>Time on Website</th>\n",
       "      <th>Length of Membership</th>\n",
       "      <th>Yearly Amount Spent</th>\n",
       "    </tr>\n",
       "  </thead>\n",
       "  <tbody>\n",
       "    <tr>\n",
       "      <th>count</th>\n",
       "      <td>500.000000</td>\n",
       "      <td>500.000000</td>\n",
       "      <td>500.000000</td>\n",
       "      <td>500.000000</td>\n",
       "      <td>500.000000</td>\n",
       "    </tr>\n",
       "    <tr>\n",
       "      <th>mean</th>\n",
       "      <td>-0.046813</td>\n",
       "      <td>-0.099204</td>\n",
       "      <td>0.013050</td>\n",
       "      <td>0.037323</td>\n",
       "      <td>-6.538091</td>\n",
       "    </tr>\n",
       "    <tr>\n",
       "      <th>std</th>\n",
       "      <td>0.944506</td>\n",
       "      <td>1.001552</td>\n",
       "      <td>1.030767</td>\n",
       "      <td>0.976185</td>\n",
       "      <td>101.726042</td>\n",
       "    </tr>\n",
       "    <tr>\n",
       "      <th>min</th>\n",
       "      <td>-2.848196</td>\n",
       "      <td>-2.828438</td>\n",
       "      <td>-4.344189</td>\n",
       "      <td>-3.134696</td>\n",
       "      <td>-345.431534</td>\n",
       "    </tr>\n",
       "    <tr>\n",
       "      <th>25%</th>\n",
       "      <td>-0.650688</td>\n",
       "      <td>-0.777960</td>\n",
       "      <td>-0.666791</td>\n",
       "      <td>-0.558392</td>\n",
       "      <td>-68.609159</td>\n",
       "    </tr>\n",
       "    <tr>\n",
       "      <th>50%</th>\n",
       "      <td>-0.004870</td>\n",
       "      <td>-0.135426</td>\n",
       "      <td>0.007370</td>\n",
       "      <td>0.083412</td>\n",
       "      <td>-6.731345</td>\n",
       "    </tr>\n",
       "    <tr>\n",
       "      <th>75%</th>\n",
       "      <td>0.558983</td>\n",
       "      <td>0.562312</td>\n",
       "      <td>0.757529</td>\n",
       "      <td>0.685769</td>\n",
       "      <td>65.526641</td>\n",
       "    </tr>\n",
       "    <tr>\n",
       "      <th>max</th>\n",
       "      <td>3.078020</td>\n",
       "      <td>2.788462</td>\n",
       "      <td>2.659811</td>\n",
       "      <td>2.475761</td>\n",
       "      <td>290.287872</td>\n",
       "    </tr>\n",
       "  </tbody>\n",
       "</table>\n",
       "</div>"
      ],
      "text/plain": [
       "       Avg. Session Length  Time on App  Time on Website  \\\n",
       "count           500.000000   500.000000       500.000000   \n",
       "mean             -0.046813    -0.099204         0.013050   \n",
       "std               0.944506     1.001552         1.030767   \n",
       "min              -2.848196    -2.828438        -4.344189   \n",
       "25%              -0.650688    -0.777960        -0.666791   \n",
       "50%              -0.004870    -0.135426         0.007370   \n",
       "75%               0.558983     0.562312         0.757529   \n",
       "max               3.078020     2.788462         2.659811   \n",
       "\n",
       "       Length of Membership  Yearly Amount Spent  \n",
       "count            500.000000           500.000000  \n",
       "mean               0.037323            -6.538091  \n",
       "std                0.976185           101.726042  \n",
       "min               -3.134696          -345.431534  \n",
       "25%               -0.558392           -68.609159  \n",
       "50%                0.083412            -6.731345  \n",
       "75%                0.685769            65.526641  \n",
       "max                2.475761           290.287872  "
      ]
     },
     "execution_count": 140,
     "metadata": {},
     "output_type": "execute_result"
    }
   ],
   "source": [
    "df.describe()"
   ]
  },
  {
   "cell_type": "code",
   "execution_count": 141,
   "metadata": {
    "collapsed": true
   },
   "outputs": [],
   "source": [
    "plus = [33,12,37,3.6,500]\n",
    "for i,col in enumerate(df.columns):\n",
    "    df[col] = df[col].apply(lambda x: x+plus[i])"
   ]
  },
  {
   "cell_type": "code",
   "execution_count": 142,
   "metadata": {
    "collapsed": false
   },
   "outputs": [
    {
     "data": {
      "text/html": [
       "<div>\n",
       "<table border=\"1\" class=\"dataframe\">\n",
       "  <thead>\n",
       "    <tr style=\"text-align: right;\">\n",
       "      <th></th>\n",
       "      <th>Avg. Session Length</th>\n",
       "      <th>Time on App</th>\n",
       "      <th>Time on Website</th>\n",
       "      <th>Length of Membership</th>\n",
       "      <th>Yearly Amount Spent</th>\n",
       "    </tr>\n",
       "  </thead>\n",
       "  <tbody>\n",
       "    <tr>\n",
       "      <th>count</th>\n",
       "      <td>500.000000</td>\n",
       "      <td>500.000000</td>\n",
       "      <td>500.000000</td>\n",
       "      <td>500.000000</td>\n",
       "      <td>500.000000</td>\n",
       "    </tr>\n",
       "    <tr>\n",
       "      <th>mean</th>\n",
       "      <td>32.953187</td>\n",
       "      <td>11.900796</td>\n",
       "      <td>37.013050</td>\n",
       "      <td>3.637323</td>\n",
       "      <td>493.461909</td>\n",
       "    </tr>\n",
       "    <tr>\n",
       "      <th>std</th>\n",
       "      <td>0.944506</td>\n",
       "      <td>1.001552</td>\n",
       "      <td>1.030767</td>\n",
       "      <td>0.976185</td>\n",
       "      <td>101.726042</td>\n",
       "    </tr>\n",
       "    <tr>\n",
       "      <th>min</th>\n",
       "      <td>30.151804</td>\n",
       "      <td>9.171562</td>\n",
       "      <td>32.655811</td>\n",
       "      <td>0.465304</td>\n",
       "      <td>154.568466</td>\n",
       "    </tr>\n",
       "    <tr>\n",
       "      <th>25%</th>\n",
       "      <td>32.349312</td>\n",
       "      <td>11.222040</td>\n",
       "      <td>36.333209</td>\n",
       "      <td>3.041608</td>\n",
       "      <td>431.390841</td>\n",
       "    </tr>\n",
       "    <tr>\n",
       "      <th>50%</th>\n",
       "      <td>32.995130</td>\n",
       "      <td>11.864574</td>\n",
       "      <td>37.007370</td>\n",
       "      <td>3.683412</td>\n",
       "      <td>493.268655</td>\n",
       "    </tr>\n",
       "    <tr>\n",
       "      <th>75%</th>\n",
       "      <td>33.558983</td>\n",
       "      <td>12.562312</td>\n",
       "      <td>37.757529</td>\n",
       "      <td>4.285769</td>\n",
       "      <td>565.526641</td>\n",
       "    </tr>\n",
       "    <tr>\n",
       "      <th>max</th>\n",
       "      <td>36.078020</td>\n",
       "      <td>14.788462</td>\n",
       "      <td>39.659811</td>\n",
       "      <td>6.075761</td>\n",
       "      <td>790.287872</td>\n",
       "    </tr>\n",
       "  </tbody>\n",
       "</table>\n",
       "</div>"
      ],
      "text/plain": [
       "       Avg. Session Length  Time on App  Time on Website  \\\n",
       "count           500.000000   500.000000       500.000000   \n",
       "mean             32.953187    11.900796        37.013050   \n",
       "std               0.944506     1.001552         1.030767   \n",
       "min              30.151804     9.171562        32.655811   \n",
       "25%              32.349312    11.222040        36.333209   \n",
       "50%              32.995130    11.864574        37.007370   \n",
       "75%              33.558983    12.562312        37.757529   \n",
       "max              36.078020    14.788462        39.659811   \n",
       "\n",
       "       Length of Membership  Yearly Amount Spent  \n",
       "count            500.000000           500.000000  \n",
       "mean               3.637323           493.461909  \n",
       "std                0.976185           101.726042  \n",
       "min                0.465304           154.568466  \n",
       "25%                3.041608           431.390841  \n",
       "50%                3.683412           493.268655  \n",
       "75%                4.285769           565.526641  \n",
       "max                6.075761           790.287872  "
      ]
     },
     "execution_count": 142,
     "metadata": {},
     "output_type": "execute_result"
    }
   ],
   "source": [
    "df.describe()"
   ]
  },
  {
   "cell_type": "code",
   "execution_count": 77,
   "metadata": {
    "collapsed": false
   },
   "outputs": [],
   "source": []
  },
  {
   "cell_type": "code",
   "execution_count": 82,
   "metadata": {
    "collapsed": false
   },
   "outputs": [],
   "source": []
  },
  {
   "cell_type": "code",
   "execution_count": 84,
   "metadata": {
    "collapsed": false
   },
   "outputs": [
    {
     "data": {
      "text/html": [
       "<div>\n",
       "<table border=\"1\" class=\"dataframe\">\n",
       "  <thead>\n",
       "    <tr style=\"text-align: right;\">\n",
       "      <th></th>\n",
       "      <th>Avg. Session Length</th>\n",
       "      <th>Time on App</th>\n",
       "      <th>Time on Website</th>\n",
       "      <th>Length of Membership</th>\n",
       "      <th>Yearly Amount Spent</th>\n",
       "    </tr>\n",
       "  </thead>\n",
       "  <tbody>\n",
       "    <tr>\n",
       "      <th>0</th>\n",
       "      <td>1.246398</td>\n",
       "      <td>-0.967416</td>\n",
       "      <td>1.066161</td>\n",
       "      <td>-1.070783</td>\n",
       "      <td>-29.556312</td>\n",
       "    </tr>\n",
       "    <tr>\n",
       "      <th>1</th>\n",
       "      <td>-0.368018</td>\n",
       "      <td>-0.725080</td>\n",
       "      <td>-0.334043</td>\n",
       "      <td>0.213916</td>\n",
       "      <td>-23.393102</td>\n",
       "    </tr>\n",
       "    <tr>\n",
       "      <th>2</th>\n",
       "      <td>2.296694</td>\n",
       "      <td>-0.254190</td>\n",
       "      <td>2.238661</td>\n",
       "      <td>0.591325</td>\n",
       "      <td>194.693310</td>\n",
       "    </tr>\n",
       "    <tr>\n",
       "      <th>3</th>\n",
       "      <td>0.080587</td>\n",
       "      <td>-1.191134</td>\n",
       "      <td>-0.092924</td>\n",
       "      <td>0.620104</td>\n",
       "      <td>13.805463</td>\n",
       "    </tr>\n",
       "    <tr>\n",
       "      <th>4</th>\n",
       "      <td>0.821842</td>\n",
       "      <td>0.989061</td>\n",
       "      <td>-1.758310</td>\n",
       "      <td>0.327034</td>\n",
       "      <td>-73.292479</td>\n",
       "    </tr>\n",
       "  </tbody>\n",
       "</table>\n",
       "</div>"
      ],
      "text/plain": [
       "   Avg. Session Length  Time on App  Time on Website  Length of Membership  \\\n",
       "0             1.246398    -0.967416         1.066161             -1.070783   \n",
       "1            -0.368018    -0.725080        -0.334043              0.213916   \n",
       "2             2.296694    -0.254190         2.238661              0.591325   \n",
       "3             0.080587    -1.191134        -0.092924              0.620104   \n",
       "4             0.821842     0.989061        -1.758310              0.327034   \n",
       "\n",
       "   Yearly Amount Spent  \n",
       "0           -29.556312  \n",
       "1           -23.393102  \n",
       "2           194.693310  \n",
       "3            13.805463  \n",
       "4           -73.292479  "
      ]
     },
     "execution_count": 84,
     "metadata": {},
     "output_type": "execute_result"
    }
   ],
   "source": []
  },
  {
   "cell_type": "code",
   "execution_count": 90,
   "metadata": {
    "collapsed": false
   },
   "outputs": [
    {
     "data": {
      "text/html": [
       "<div>\n",
       "<table border=\"1\" class=\"dataframe\">\n",
       "  <thead>\n",
       "    <tr style=\"text-align: right;\">\n",
       "      <th></th>\n",
       "      <th>Avg. Session Length</th>\n",
       "      <th>Time on App</th>\n",
       "      <th>Time on Website</th>\n",
       "      <th>Length of Membership</th>\n",
       "      <th>Yearly Amount Spent</th>\n",
       "    </tr>\n",
       "  </thead>\n",
       "  <tbody>\n",
       "    <tr>\n",
       "      <th>count</th>\n",
       "      <td>500.000000</td>\n",
       "      <td>500.000000</td>\n",
       "      <td>500.000000</td>\n",
       "      <td>500.000000</td>\n",
       "      <td>500.000000</td>\n",
       "    </tr>\n",
       "    <tr>\n",
       "      <th>mean</th>\n",
       "      <td>0.028146</td>\n",
       "      <td>0.016448</td>\n",
       "      <td>0.067521</td>\n",
       "      <td>0.007300</td>\n",
       "      <td>5.597086</td>\n",
       "    </tr>\n",
       "    <tr>\n",
       "      <th>std</th>\n",
       "      <td>1.019006</td>\n",
       "      <td>0.986040</td>\n",
       "      <td>0.983779</td>\n",
       "      <td>1.013928</td>\n",
       "      <td>107.495901</td>\n",
       "    </tr>\n",
       "    <tr>\n",
       "      <th>min</th>\n",
       "      <td>-3.521193</td>\n",
       "      <td>-3.184312</td>\n",
       "      <td>-3.116739</td>\n",
       "      <td>-3.447994</td>\n",
       "      <td>-315.820850</td>\n",
       "    </tr>\n",
       "    <tr>\n",
       "      <th>25%</th>\n",
       "      <td>-0.686689</td>\n",
       "      <td>-0.712078</td>\n",
       "      <td>-0.599560</td>\n",
       "      <td>-0.670968</td>\n",
       "      <td>-62.493074</td>\n",
       "    </tr>\n",
       "    <tr>\n",
       "      <th>50%</th>\n",
       "      <td>0.019479</td>\n",
       "      <td>0.041474</td>\n",
       "      <td>0.052260</td>\n",
       "      <td>0.029528</td>\n",
       "      <td>6.808396</td>\n",
       "    </tr>\n",
       "    <tr>\n",
       "      <th>75%</th>\n",
       "      <td>0.701334</td>\n",
       "      <td>0.731358</td>\n",
       "      <td>0.667047</td>\n",
       "      <td>0.699976</td>\n",
       "      <td>75.192865</td>\n",
       "    </tr>\n",
       "    <tr>\n",
       "      <th>max</th>\n",
       "      <td>3.139514</td>\n",
       "      <td>2.499365</td>\n",
       "      <td>2.739165</td>\n",
       "      <td>3.106218</td>\n",
       "      <td>313.427558</td>\n",
       "    </tr>\n",
       "  </tbody>\n",
       "</table>\n",
       "</div>"
      ],
      "text/plain": [
       "       Avg. Session Length  Time on App  Time on Website  \\\n",
       "count           500.000000   500.000000       500.000000   \n",
       "mean              0.028146     0.016448         0.067521   \n",
       "std               1.019006     0.986040         0.983779   \n",
       "min              -3.521193    -3.184312        -3.116739   \n",
       "25%              -0.686689    -0.712078        -0.599560   \n",
       "50%               0.019479     0.041474         0.052260   \n",
       "75%               0.701334     0.731358         0.667047   \n",
       "max               3.139514     2.499365         2.739165   \n",
       "\n",
       "       Length of Membership  Yearly Amount Spent  \n",
       "count            500.000000           500.000000  \n",
       "mean               0.007300             5.597086  \n",
       "std                1.013928           107.495901  \n",
       "min               -3.447994          -315.820850  \n",
       "25%               -0.670968           -62.493074  \n",
       "50%                0.029528             6.808396  \n",
       "75%                0.699976            75.192865  \n",
       "max                3.106218           313.427558  "
      ]
     },
     "execution_count": 90,
     "metadata": {},
     "output_type": "execute_result"
    }
   ],
   "source": [
    "df.describe()"
   ]
  },
  {
   "cell_type": "code",
   "execution_count": 143,
   "metadata": {
    "collapsed": false
   },
   "outputs": [],
   "source": [
    "df['Email'] = df['Time on App'].apply(lambda x : fake.email())\n",
    "df['Address'] = df['Email'].apply(lambda x : fake.address())\n",
    "df['Avatar'] = df['Email'].apply(lambda x : fake.color_name())"
   ]
  },
  {
   "cell_type": "code",
   "execution_count": 145,
   "metadata": {
    "collapsed": false
   },
   "outputs": [],
   "source": [
    "customers = df[['Email', 'Address','Avatar','Avg. Session Length', 'Time on App', 'Time on Website',\n",
    "       'Length of Membership', 'Yearly Amount Spent']]"
   ]
  },
  {
   "cell_type": "code",
   "execution_count": 146,
   "metadata": {
    "collapsed": true
   },
   "outputs": [],
   "source": [
    "customers.to_csv('Ecommerce Customers',index=False)"
   ]
  },
  {
   "cell_type": "code",
   "execution_count": 114,
   "metadata": {
    "collapsed": true
   },
   "outputs": [],
   "source": []
  },
  {
   "cell_type": "code",
   "execution_count": 133,
   "metadata": {
    "collapsed": false
   },
   "outputs": [],
   "source": []
  },
  {
   "cell_type": "code",
   "execution_count": 132,
   "metadata": {
    "collapsed": false
   },
   "outputs": [],
   "source": [
    "df['Avg. Session Length'] = df['Avg. Session Length'].apply(lambda x : x+randint(0,100)*0.1)"
   ]
  },
  {
   "cell_type": "code",
   "execution_count": 121,
   "metadata": {
    "collapsed": true
   },
   "outputs": [],
   "source": [
    "from random import randint"
   ]
  },
  {
   "cell_type": "code",
   "execution_count": 131,
   "metadata": {
    "collapsed": false
   },
   "outputs": [
    {
     "data": {
      "text/plain": [
       "10.0"
      ]
     },
     "execution_count": 131,
     "metadata": {},
     "output_type": "execute_result"
    }
   ],
   "source": [
    "randint(0,100)*0.1"
   ]
  },
  {
   "cell_type": "code",
   "execution_count": null,
   "metadata": {
    "collapsed": true
   },
   "outputs": [],
   "source": []
  }
 ],
 "metadata": {
  "kernelspec": {
   "display_name": "Python 3",
   "language": "python",
   "name": "python3"
  },
  "language_info": {
   "codemirror_mode": {
    "name": "ipython",
    "version": 3
   },
   "file_extension": ".py",
   "mimetype": "text/x-python",
   "name": "python",
   "nbconvert_exporter": "python",
   "pygments_lexer": "ipython3",
   "version": "3.5.1"
  }
 },
 "nbformat": 4,
 "nbformat_minor": 0
}
