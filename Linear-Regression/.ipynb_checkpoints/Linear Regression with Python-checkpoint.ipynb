{
 "cells": [
  {
   "cell_type": "markdown",
   "metadata": {},
   "source": [
    "# Linear Regression with Python\n",
    "\n"
   ]
  },
  {
   "cell_type": "code",
   "execution_count": 46,
   "metadata": {
    "collapsed": true
   },
   "outputs": [],
   "source": [
    "import pandas as pd\n",
    "import numpy as np\n",
    "import seaborn as sns\n",
    "import matplotlib.pyplot as plt\n",
    "from sklearn import datasets"
   ]
  },
  {
   "cell_type": "code",
   "execution_count": 6,
   "metadata": {
    "collapsed": true
   },
   "outputs": [],
   "source": [
    "from faker import Factory,Faker"
   ]
  },
  {
   "cell_type": "code",
   "execution_count": 12,
   "metadata": {
    "collapsed": true
   },
   "outputs": [],
   "source": [
    "fake = Faker()\n",
    "fake.seed(101)"
   ]
  },
  {
   "cell_type": "code",
   "execution_count": 13,
   "metadata": {
    "collapsed": false
   },
   "outputs": [
    {
     "data": {
      "text/plain": [
       "'Boone, Allen and Jones'"
      ]
     },
     "execution_count": 13,
     "metadata": {},
     "output_type": "execute_result"
    }
   ],
   "source": [
    "\n",
    "fake.company()"
   ]
  },
  {
   "cell_type": "code",
   "execution_count": 15,
   "metadata": {
    "collapsed": false
   },
   "outputs": [
    {
     "data": {
      "text/plain": [
       "'3167 Camacho Run Suite 466\\nSouth Randy, SC 07381-5055'"
      ]
     },
     "execution_count": 15,
     "metadata": {},
     "output_type": "execute_result"
    }
   ],
   "source": [
    "fake.address()"
   ]
  },
  {
   "cell_type": "code",
   "execution_count": 41,
   "metadata": {
    "collapsed": false
   },
   "outputs": [
    {
     "name": "stdout",
     "output_type": "stream",
     "text": [
      "['Voyager', 'Katelyn Middleton', '869983872352072 06/24', 'CVC: 347', '']\n"
     ]
    }
   ],
   "source": [
    "print(fake.credit_card_full().split('\\n'))"
   ]
  },
  {
   "cell_type": "code",
   "execution_count": 74,
   "metadata": {
    "collapsed": false
   },
   "outputs": [],
   "source": [
    "X,y = datasets.make_regression(n_samples=500,n_features=4,n_informative=4)"
   ]
  },
  {
   "cell_type": "code",
   "execution_count": 75,
   "metadata": {
    "collapsed": true
   },
   "outputs": [],
   "source": [
    "X = pd.DataFrame(X)"
   ]
  },
  {
   "cell_type": "code",
   "execution_count": 76,
   "metadata": {
    "collapsed": false
   },
   "outputs": [],
   "source": [
    "y = pd.DataFrame(y)"
   ]
  },
  {
   "cell_type": "code",
   "execution_count": 77,
   "metadata": {
    "collapsed": false
   },
   "outputs": [],
   "source": [
    "df = pd.concat([X,y],axis=1)"
   ]
  },
  {
   "cell_type": "code",
   "execution_count": 82,
   "metadata": {
    "collapsed": false
   },
   "outputs": [],
   "source": [
    "df.columns = ['Avg. Session Length','Time on App','Time on Website','Length of Membership','Yearly Amount Spent']"
   ]
  },
  {
   "cell_type": "code",
   "execution_count": 84,
   "metadata": {
    "collapsed": false
   },
   "outputs": [
    {
     "data": {
      "text/html": [
       "<div>\n",
       "<table border=\"1\" class=\"dataframe\">\n",
       "  <thead>\n",
       "    <tr style=\"text-align: right;\">\n",
       "      <th></th>\n",
       "      <th>Avg. Session Length</th>\n",
       "      <th>Time on App</th>\n",
       "      <th>Time on Website</th>\n",
       "      <th>Length of Membership</th>\n",
       "      <th>Yearly Amount Spent</th>\n",
       "    </tr>\n",
       "  </thead>\n",
       "  <tbody>\n",
       "    <tr>\n",
       "      <th>0</th>\n",
       "      <td>1.246398</td>\n",
       "      <td>-0.967416</td>\n",
       "      <td>1.066161</td>\n",
       "      <td>-1.070783</td>\n",
       "      <td>-29.556312</td>\n",
       "    </tr>\n",
       "    <tr>\n",
       "      <th>1</th>\n",
       "      <td>-0.368018</td>\n",
       "      <td>-0.725080</td>\n",
       "      <td>-0.334043</td>\n",
       "      <td>0.213916</td>\n",
       "      <td>-23.393102</td>\n",
       "    </tr>\n",
       "    <tr>\n",
       "      <th>2</th>\n",
       "      <td>2.296694</td>\n",
       "      <td>-0.254190</td>\n",
       "      <td>2.238661</td>\n",
       "      <td>0.591325</td>\n",
       "      <td>194.693310</td>\n",
       "    </tr>\n",
       "    <tr>\n",
       "      <th>3</th>\n",
       "      <td>0.080587</td>\n",
       "      <td>-1.191134</td>\n",
       "      <td>-0.092924</td>\n",
       "      <td>0.620104</td>\n",
       "      <td>13.805463</td>\n",
       "    </tr>\n",
       "    <tr>\n",
       "      <th>4</th>\n",
       "      <td>0.821842</td>\n",
       "      <td>0.989061</td>\n",
       "      <td>-1.758310</td>\n",
       "      <td>0.327034</td>\n",
       "      <td>-73.292479</td>\n",
       "    </tr>\n",
       "  </tbody>\n",
       "</table>\n",
       "</div>"
      ],
      "text/plain": [
       "   Avg. Session Length  Time on App  Time on Website  Length of Membership  \\\n",
       "0             1.246398    -0.967416         1.066161             -1.070783   \n",
       "1            -0.368018    -0.725080        -0.334043              0.213916   \n",
       "2             2.296694    -0.254190         2.238661              0.591325   \n",
       "3             0.080587    -1.191134        -0.092924              0.620104   \n",
       "4             0.821842     0.989061        -1.758310              0.327034   \n",
       "\n",
       "   Yearly Amount Spent  \n",
       "0           -29.556312  \n",
       "1           -23.393102  \n",
       "2           194.693310  \n",
       "3            13.805463  \n",
       "4           -73.292479  "
      ]
     },
     "execution_count": 84,
     "metadata": {},
     "output_type": "execute_result"
    }
   ],
   "source": [
    "df.head()"
   ]
  },
  {
   "cell_type": "code",
   "execution_count": 90,
   "metadata": {
    "collapsed": false
   },
   "outputs": [
    {
     "data": {
      "text/html": [
       "<div>\n",
       "<table border=\"1\" class=\"dataframe\">\n",
       "  <thead>\n",
       "    <tr style=\"text-align: right;\">\n",
       "      <th></th>\n",
       "      <th>Avg. Session Length</th>\n",
       "      <th>Time on App</th>\n",
       "      <th>Time on Website</th>\n",
       "      <th>Length of Membership</th>\n",
       "      <th>Yearly Amount Spent</th>\n",
       "    </tr>\n",
       "  </thead>\n",
       "  <tbody>\n",
       "    <tr>\n",
       "      <th>count</th>\n",
       "      <td>500.000000</td>\n",
       "      <td>500.000000</td>\n",
       "      <td>500.000000</td>\n",
       "      <td>500.000000</td>\n",
       "      <td>500.000000</td>\n",
       "    </tr>\n",
       "    <tr>\n",
       "      <th>mean</th>\n",
       "      <td>0.028146</td>\n",
       "      <td>0.016448</td>\n",
       "      <td>0.067521</td>\n",
       "      <td>0.007300</td>\n",
       "      <td>5.597086</td>\n",
       "    </tr>\n",
       "    <tr>\n",
       "      <th>std</th>\n",
       "      <td>1.019006</td>\n",
       "      <td>0.986040</td>\n",
       "      <td>0.983779</td>\n",
       "      <td>1.013928</td>\n",
       "      <td>107.495901</td>\n",
       "    </tr>\n",
       "    <tr>\n",
       "      <th>min</th>\n",
       "      <td>-3.521193</td>\n",
       "      <td>-3.184312</td>\n",
       "      <td>-3.116739</td>\n",
       "      <td>-3.447994</td>\n",
       "      <td>-315.820850</td>\n",
       "    </tr>\n",
       "    <tr>\n",
       "      <th>25%</th>\n",
       "      <td>-0.686689</td>\n",
       "      <td>-0.712078</td>\n",
       "      <td>-0.599560</td>\n",
       "      <td>-0.670968</td>\n",
       "      <td>-62.493074</td>\n",
       "    </tr>\n",
       "    <tr>\n",
       "      <th>50%</th>\n",
       "      <td>0.019479</td>\n",
       "      <td>0.041474</td>\n",
       "      <td>0.052260</td>\n",
       "      <td>0.029528</td>\n",
       "      <td>6.808396</td>\n",
       "    </tr>\n",
       "    <tr>\n",
       "      <th>75%</th>\n",
       "      <td>0.701334</td>\n",
       "      <td>0.731358</td>\n",
       "      <td>0.667047</td>\n",
       "      <td>0.699976</td>\n",
       "      <td>75.192865</td>\n",
       "    </tr>\n",
       "    <tr>\n",
       "      <th>max</th>\n",
       "      <td>3.139514</td>\n",
       "      <td>2.499365</td>\n",
       "      <td>2.739165</td>\n",
       "      <td>3.106218</td>\n",
       "      <td>313.427558</td>\n",
       "    </tr>\n",
       "  </tbody>\n",
       "</table>\n",
       "</div>"
      ],
      "text/plain": [
       "       Avg. Session Length  Time on App  Time on Website  \\\n",
       "count           500.000000   500.000000       500.000000   \n",
       "mean              0.028146     0.016448         0.067521   \n",
       "std               1.019006     0.986040         0.983779   \n",
       "min              -3.521193    -3.184312        -3.116739   \n",
       "25%              -0.686689    -0.712078        -0.599560   \n",
       "50%               0.019479     0.041474         0.052260   \n",
       "75%               0.701334     0.731358         0.667047   \n",
       "max               3.139514     2.499365         2.739165   \n",
       "\n",
       "       Length of Membership  Yearly Amount Spent  \n",
       "count            500.000000           500.000000  \n",
       "mean               0.007300             5.597086  \n",
       "std                1.013928           107.495901  \n",
       "min               -3.447994          -315.820850  \n",
       "25%               -0.670968           -62.493074  \n",
       "50%                0.029528             6.808396  \n",
       "75%                0.699976            75.192865  \n",
       "max                3.106218           313.427558  "
      ]
     },
     "execution_count": 90,
     "metadata": {},
     "output_type": "execute_result"
    }
   ],
   "source": [
    "df.describe()"
   ]
  },
  {
   "cell_type": "code",
   "execution_count": 96,
   "metadata": {
    "collapsed": false
   },
   "outputs": [],
   "source": [
    "plus = [33,12,37,3.6,500]\n",
    "for i,col in enumerate(df.columns):\n",
    "    df[col] = df[col].apply(lambda x: x+plus[i])"
   ]
  },
  {
   "cell_type": "code",
   "execution_count": 99,
   "metadata": {
    "collapsed": false
   },
   "outputs": [],
   "source": [
    "df['Email'] = df['Time on App']"
   ]
  },
  {
   "cell_type": "code",
   "execution_count": 100,
   "metadata": {
    "collapsed": true
   },
   "outputs": [],
   "source": [
    "df['Email'] = df['Email'].apply(lambda x : fake.email())"
   ]
  },
  {
   "cell_type": "code",
   "execution_count": 101,
   "metadata": {
    "collapsed": false
   },
   "outputs": [
    {
     "data": {
      "text/html": [
       "<div>\n",
       "<table border=\"1\" class=\"dataframe\">\n",
       "  <thead>\n",
       "    <tr style=\"text-align: right;\">\n",
       "      <th></th>\n",
       "      <th>Avg. Session Length</th>\n",
       "      <th>Time on App</th>\n",
       "      <th>Time on Website</th>\n",
       "      <th>Length of Membership</th>\n",
       "      <th>Yearly Amount Spent</th>\n",
       "      <th>Email</th>\n",
       "    </tr>\n",
       "  </thead>\n",
       "  <tbody>\n",
       "    <tr>\n",
       "      <th>0</th>\n",
       "      <td>34.246398</td>\n",
       "      <td>11.032584</td>\n",
       "      <td>38.066161</td>\n",
       "      <td>2.529217</td>\n",
       "      <td>470.443688</td>\n",
       "      <td>johnsonsandra@hotmail.com</td>\n",
       "    </tr>\n",
       "    <tr>\n",
       "      <th>1</th>\n",
       "      <td>32.631982</td>\n",
       "      <td>11.274920</td>\n",
       "      <td>36.665957</td>\n",
       "      <td>3.813916</td>\n",
       "      <td>476.606898</td>\n",
       "      <td>randall15@campbell-russell.com</td>\n",
       "    </tr>\n",
       "    <tr>\n",
       "      <th>2</th>\n",
       "      <td>35.296694</td>\n",
       "      <td>11.745810</td>\n",
       "      <td>39.238661</td>\n",
       "      <td>4.191325</td>\n",
       "      <td>694.693310</td>\n",
       "      <td>ochavez@roth-taylor.net</td>\n",
       "    </tr>\n",
       "    <tr>\n",
       "      <th>3</th>\n",
       "      <td>33.080587</td>\n",
       "      <td>10.808866</td>\n",
       "      <td>36.907076</td>\n",
       "      <td>4.220104</td>\n",
       "      <td>513.805463</td>\n",
       "      <td>stevenhanson@collins.org</td>\n",
       "    </tr>\n",
       "    <tr>\n",
       "      <th>4</th>\n",
       "      <td>33.821842</td>\n",
       "      <td>12.989061</td>\n",
       "      <td>35.241690</td>\n",
       "      <td>3.927034</td>\n",
       "      <td>426.707521</td>\n",
       "      <td>adamreynolds@robinson.biz</td>\n",
       "    </tr>\n",
       "  </tbody>\n",
       "</table>\n",
       "</div>"
      ],
      "text/plain": [
       "   Avg. Session Length  Time on App  Time on Website  Length of Membership  \\\n",
       "0            34.246398    11.032584        38.066161              2.529217   \n",
       "1            32.631982    11.274920        36.665957              3.813916   \n",
       "2            35.296694    11.745810        39.238661              4.191325   \n",
       "3            33.080587    10.808866        36.907076              4.220104   \n",
       "4            33.821842    12.989061        35.241690              3.927034   \n",
       "\n",
       "   Yearly Amount Spent                           Email  \n",
       "0           470.443688       johnsonsandra@hotmail.com  \n",
       "1           476.606898  randall15@campbell-russell.com  \n",
       "2           694.693310         ochavez@roth-taylor.net  \n",
       "3           513.805463        stevenhanson@collins.org  \n",
       "4           426.707521       adamreynolds@robinson.biz  "
      ]
     },
     "execution_count": 101,
     "metadata": {},
     "output_type": "execute_result"
    }
   ],
   "source": [
    "df.head()"
   ]
  },
  {
   "cell_type": "code",
   "execution_count": null,
   "metadata": {
    "collapsed": true
   },
   "outputs": [],
   "source": []
  },
  {
   "cell_type": "code",
   "execution_count": null,
   "metadata": {
    "collapsed": false,
    "scrolled": true
   },
   "outputs": [],
   "source": []
  },
  {
   "cell_type": "code",
   "execution_count": 88,
   "metadata": {
    "collapsed": false
   },
   "outputs": [
    {
     "data": {
      "text/plain": [
       "Index(['Avg. Session Length', 'Time on App', 'Time on Website',\n",
       "       'Length of Membership', 'Yearly Amount Spent'],\n",
       "      dtype='object')"
      ]
     },
     "execution_count": 88,
     "metadata": {},
     "output_type": "execute_result"
    }
   ],
   "source": [
    "df.columns"
   ]
  },
  {
   "cell_type": "code",
   "execution_count": null,
   "metadata": {
    "collapsed": true
   },
   "outputs": [],
   "source": [
    "df."
   ]
  }
 ],
 "metadata": {
  "kernelspec": {
   "display_name": "Python 3",
   "language": "python",
   "name": "python3"
  },
  "language_info": {
   "codemirror_mode": {
    "name": "ipython",
    "version": 3
   },
   "file_extension": ".py",
   "mimetype": "text/x-python",
   "name": "python",
   "nbconvert_exporter": "python",
   "pygments_lexer": "ipython3",
   "version": "3.5.1"
  }
 },
 "nbformat": 4,
 "nbformat_minor": 0
}
